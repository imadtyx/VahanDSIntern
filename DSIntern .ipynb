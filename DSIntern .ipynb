{
  "nbformat": 4,
  "nbformat_minor": 0,
  "metadata": {
    "colab": {
      "name": "DSIntern",
      "provenance": []
    },
    "kernelspec": {
      "name": "python3",
      "display_name": "Python 3"
    }
  },
  "cells": [
    {
      "cell_type": "markdown",
      "metadata": {
        "id": "m7M-Q2qKwkLm",
        "colab_type": "text"
      },
      "source": [
        "# Run the cells of the following section to first get the data and install all the required packages."
      ]
    },
    {
      "cell_type": "code",
      "metadata": {
        "id": "lyzssFzPfE6K",
        "colab_type": "code",
        "outputId": "f445945a-9636-485a-b4a8-08621dc67ba8",
        "colab": {
          "base_uri": "https://localhost:8080/",
          "height": 67
        }
      },
      "source": [
        "!curl http://ceo.karnataka.gov.in/finalrolls_2020/English/MR/AC163/S10A163P1.pdf -o name.pdf"
      ],
      "execution_count": 1,
      "outputs": [
        {
          "output_type": "stream",
          "text": [
            "  % Total    % Received % Xferd  Average Speed   Time    Time     Time  Current\n",
            "                                 Dload  Upload   Total   Spent    Left  Speed\n",
            "\r  0     0    0     0    0     0      0      0 --:--:-- --:--:-- --:--:--     0\r  0     0    0     0    0     0      0      0 --:--:-- --:--:-- --:--:--     0\r  0 4777k    0 46081    0     0  25529      0  0:03:11  0:00:01  0:03:10 25515\r 10 4777k   10  482k    0     0   172k      0  0:00:27  0:00:02  0:00:25  172k\r100 4777k  100 4777k    0     0  1336k      0  0:00:03  0:00:03 --:--:-- 1336k\n"
          ],
          "name": "stdout"
        }
      ]
    },
    {
      "cell_type": "code",
      "metadata": {
        "id": "D0y44ylXhjJD",
        "colab_type": "code",
        "outputId": "aa88f8bf-9d62-4593-b226-cd32e67b2a7a",
        "colab": {
          "base_uri": "https://localhost:8080/",
          "height": 34
        }
      },
      "source": [
        "!pip install pypdf2"
      ],
      "execution_count": 2,
      "outputs": [
        {
          "output_type": "stream",
          "text": [
            "Requirement already satisfied: pypdf2 in /usr/local/lib/python3.6/dist-packages (1.26.0)\n"
          ],
          "name": "stdout"
        }
      ]
    },
    {
      "cell_type": "code",
      "metadata": {
        "id": "iuBEPSfPj7IX",
        "colab_type": "code",
        "outputId": "7f31de52-f988-43c7-d8b3-070458711a8f",
        "colab": {
          "base_uri": "https://localhost:8080/",
          "height": 202
        }
      },
      "source": [
        "!pip3 install PIL\n",
        "!pip3 install pytesseract\n",
        "!pip3 install pdf2image\n",
        "!sudo apt-get install tesseract-ocr"
      ],
      "execution_count": 3,
      "outputs": [
        {
          "output_type": "stream",
          "text": [
            "\u001b[31mERROR: Could not find a version that satisfies the requirement PIL (from versions: none)\u001b[0m\n",
            "\u001b[31mERROR: No matching distribution found for PIL\u001b[0m\n",
            "Requirement already satisfied: pytesseract in /usr/local/lib/python3.6/dist-packages (0.3.4)\n",
            "Requirement already satisfied: Pillow in /usr/local/lib/python3.6/dist-packages (from pytesseract) (7.0.0)\n",
            "Requirement already satisfied: pdf2image in /usr/local/lib/python3.6/dist-packages (1.13.1)\n",
            "Requirement already satisfied: pillow in /usr/local/lib/python3.6/dist-packages (from pdf2image) (7.0.0)\n",
            "Reading package lists... Done\n",
            "Building dependency tree       \n",
            "Reading state information... Done\n",
            "tesseract-ocr is already the newest version (4.00~git2288-10f4998a-2).\n",
            "0 upgraded, 0 newly installed, 0 to remove and 31 not upgraded.\n"
          ],
          "name": "stdout"
        }
      ]
    },
    {
      "cell_type": "code",
      "metadata": {
        "id": "5fa7RDT1lVgy",
        "colab_type": "code",
        "outputId": "8652a3b9-c1c8-4865-ff71-07913ed9c69a",
        "colab": {
          "base_uri": "https://localhost:8080/",
          "height": 101
        }
      },
      "source": [
        "!sudo apt-get install --assume-yes python-poppler"
      ],
      "execution_count": 4,
      "outputs": [
        {
          "output_type": "stream",
          "text": [
            "Reading package lists... Done\n",
            "Building dependency tree       \n",
            "Reading state information... Done\n",
            "python-poppler is already the newest version (0.12.1-10).\n",
            "0 upgraded, 0 newly installed, 0 to remove and 31 not upgraded.\n"
          ],
          "name": "stdout"
        }
      ]
    },
    {
      "cell_type": "code",
      "metadata": {
        "id": "UV27VKT8l3VO",
        "colab_type": "code",
        "outputId": "72aa26f3-2e69-44df-b2c0-1a53e7bc50a0",
        "colab": {
          "base_uri": "https://localhost:8080/",
          "height": 101
        }
      },
      "source": [
        "!sudo apt-get install --assume-yes poppler-utils"
      ],
      "execution_count": 5,
      "outputs": [
        {
          "output_type": "stream",
          "text": [
            "Reading package lists... Done\n",
            "Building dependency tree       \n",
            "Reading state information... Done\n",
            "poppler-utils is already the newest version (0.62.0-2ubuntu2.10).\n",
            "0 upgraded, 0 newly installed, 0 to remove and 31 not upgraded.\n"
          ],
          "name": "stdout"
        }
      ]
    },
    {
      "cell_type": "code",
      "metadata": {
        "id": "9g7h2-IYm0zp",
        "colab_type": "code",
        "colab": {
          "base_uri": "https://localhost:8080/",
          "height": 638
        },
        "outputId": "4549079d-db4f-4faa-d160-91e30cee062e"
      },
      "source": [
        "!dpkg -L poppler-utils"
      ],
      "execution_count": 6,
      "outputs": [
        {
          "output_type": "stream",
          "text": [
            "/.\n",
            "/usr\n",
            "/usr/bin\n",
            "/usr/bin/pdfdetach\n",
            "/usr/bin/pdffonts\n",
            "/usr/bin/pdfimages\n",
            "/usr/bin/pdfinfo\n",
            "/usr/bin/pdfseparate\n",
            "/usr/bin/pdfsig\n",
            "/usr/bin/pdftocairo\n",
            "/usr/bin/pdftohtml\n",
            "/usr/bin/pdftoppm\n",
            "/usr/bin/pdftops\n",
            "/usr/bin/pdftotext\n",
            "/usr/bin/pdfunite\n",
            "/usr/share\n",
            "/usr/share/doc\n",
            "/usr/share/doc/poppler-utils\n",
            "/usr/share/doc/poppler-utils/copyright\n",
            "/usr/share/lintian\n",
            "/usr/share/lintian/overrides\n",
            "/usr/share/lintian/overrides/poppler-utils\n",
            "/usr/share/man\n",
            "/usr/share/man/man1\n",
            "/usr/share/man/man1/pdfdetach.1.gz\n",
            "/usr/share/man/man1/pdffonts.1.gz\n",
            "/usr/share/man/man1/pdfimages.1.gz\n",
            "/usr/share/man/man1/pdfinfo.1.gz\n",
            "/usr/share/man/man1/pdfseparate.1.gz\n",
            "/usr/share/man/man1/pdfsig.1.gz\n",
            "/usr/share/man/man1/pdftocairo.1.gz\n",
            "/usr/share/man/man1/pdftohtml.1.gz\n",
            "/usr/share/man/man1/pdftoppm.1.gz\n",
            "/usr/share/man/man1/pdftops.1.gz\n",
            "/usr/share/man/man1/pdftotext.1.gz\n",
            "/usr/share/man/man1/pdfunite.1.gz\n",
            "/usr/share/doc/poppler-utils/changelog.Debian.gz\n"
          ],
          "name": "stdout"
        }
      ]
    },
    {
      "cell_type": "code",
      "metadata": {
        "id": "IGpe0E7pnAyU",
        "colab_type": "code",
        "outputId": "b629c5d3-99e6-479f-f532-c258fc2765f2",
        "colab": {
          "base_uri": "https://localhost:8080/",
          "height": 34
        }
      },
      "source": [
        "!echo $PATH"
      ],
      "execution_count": 7,
      "outputs": [
        {
          "output_type": "stream",
          "text": [
            "/usr/local/nvidia/bin:/usr/local/cuda/bin:/usr/local/sbin:/usr/local/bin:/usr/sbin:/usr/bin:/sbin:/bin:/tools/node/bin:/tools/google-cloud-sdk/bin:/opt/bin\n"
          ],
          "name": "stdout"
        }
      ]
    },
    {
      "cell_type": "code",
      "metadata": {
        "id": "SPAJWel4nCxd",
        "colab_type": "code",
        "colab": {}
      },
      "source": [
        "!pdftocairo --help"
      ],
      "execution_count": 0,
      "outputs": []
    },
    {
      "cell_type": "code",
      "metadata": {
        "id": "sv5qNmMGnYK-",
        "colab_type": "code",
        "colab": {}
      },
      "source": [
        "!export PATH=/path/to/my/bin:${PATH}"
      ],
      "execution_count": 0,
      "outputs": []
    },
    {
      "cell_type": "markdown",
      "metadata": {
        "id": "xmfJX44Dw8Q8",
        "colab_type": "text"
      },
      "source": [
        "# The actual task starts from here on."
      ]
    },
    {
      "cell_type": "code",
      "metadata": {
        "id": "oKshkbCBjzUH",
        "colab_type": "code",
        "colab": {}
      },
      "source": [
        "# Import libraries \n",
        "from PIL import Image \n",
        "import pytesseract \n",
        "import sys \n",
        "from pdf2image import convert_from_path \n",
        "import os "
      ],
      "execution_count": 0,
      "outputs": []
    },
    {
      "cell_type": "code",
      "metadata": {
        "id": "7h0W4cjgffrN",
        "colab_type": "code",
        "colab": {}
      },
      "source": [
        "# Path of the pdf \n",
        "PDF_file = \"name.pdf\"\n",
        "\n",
        "''' \n",
        "Part #1 : Converting PDF to images \n",
        "'''\n",
        "\n",
        "# Store all the pages of the PDF in a variable \n",
        "pages = convert_from_path(PDF_file, 500) \n",
        "\n",
        "# Counter to store images of each page of PDF to image \n",
        "counter = 1\n",
        "\n",
        "# Iterate through all the pages stored above \n",
        "for page in pages: \n",
        "\n",
        "\t# Declaring filename for each page of PDF as JPG \n",
        "\t# For each page, filename will be: \n",
        "\t# PDF page 1 -> page_1.jpg \n",
        "\t# PDF page 2 -> page_2.jpg \n",
        "\t# PDF page 3 -> page_3.jpg \n",
        "\t# .... \n",
        "\t# PDF page n -> page_n.jpg \n",
        "\tfilename = \"page_\"+str(counter)+\".jpg\"\n",
        "\t\n",
        "\t# Save the image of the page in system \n",
        "\tpage.save(filename, 'JPEG') \n",
        "\n",
        "\t# Increment the counter to update filename \n",
        "\tcounter += 1"
      ],
      "execution_count": 0,
      "outputs": []
    },
    {
      "cell_type": "code",
      "metadata": {
        "id": "50YxDbB5fbbG",
        "colab_type": "code",
        "colab": {}
      },
      "source": [
        "''' \n",
        "Part #2 - Recognizing text from the images using OCR \n",
        "'''\n",
        "# Variable to get count of total number of pages \n",
        "filelimit = counter-1\n",
        "\n",
        "# Creating a text file to write the output \n",
        "outfile = \"out_text.txt\"\n",
        "\n",
        "# Open the file in append mode so that \n",
        "# All contents of all images are added to the same file \n",
        "f = open(outfile, \"a\") \n",
        "\n",
        "# Iterate from 1 to total number of pages \n",
        "for i in range(1, filelimit + 1): \n",
        "\n",
        "\t# Set filename to recognize text from \n",
        "\t# Again, these files will be: \n",
        "\t# page_1.jpg \n",
        "\t# page_2.jpg \n",
        "\t# .... \n",
        "\t# page_n.jpg \n",
        "\tfilename = \"page_\"+str(i)+\".jpg\"\n",
        "\t\t\n",
        "\t# Recognize the text as string in image using pytesserct \n",
        "\ttxt = str(((pytesseract.image_to_string(Image.open(filename))))) \n",
        "\n",
        "\t# The recognized text is stored in variable text \n",
        "\t# Any string processing may be applied on text  \n",
        "\ttxt = txt.replace('-\\n', '')\t \n",
        "\n",
        "\t# Finally, write the processed text to the file. \n",
        "\tf.write(txt) \n",
        "\n",
        "# Close the file after writing all the text. \n",
        "f.close() \n"
      ],
      "execution_count": 0,
      "outputs": []
    },
    {
      "cell_type": "code",
      "metadata": {
        "id": "55C7IzgEkvcp",
        "colab_type": "code",
        "colab": {}
      },
      "source": [
        "#I have chosen the regular expressions to extract the data or patterns.\n",
        "import re\n",
        "\n",
        "pattern = re.compile('Name \\D ([a-zA-z\\s]+)$')\n",
        "\n",
        "#All this above code means is that extract or capture the alphabetic characters/expressions that only \n",
        "#have after \"Name\". This is because Name in the presented data also stands for address name. \n",
        "\n",
        "count = 0\n",
        "\n",
        "for i, line in enumerate(open('out_text.txt')):\n",
        "\n",
        "    for match in re.finditer(pattern, line):\n",
        "      print(pattern.findall(line)[0][:-2])#prrint all the names matching the above expression. \n",
        "      count+=1\n",
        "\n",
        "print(count)# total names on the pdf file."
      ],
      "execution_count": 0,
      "outputs": []
    },
    {
      "cell_type": "code",
      "metadata": {
        "id": "UJFJIIcTt83r",
        "colab_type": "code",
        "colab": {}
      },
      "source": [
        "import pandas as pd\n",
        "\n",
        "data = pd.DataFrame(columns=['Initials', 'First name', 'Middle name', 'Last name'])"
      ],
      "execution_count": 0,
      "outputs": []
    },
    {
      "cell_type": "code",
      "metadata": {
        "id": "WuGXX9x73Hvj",
        "colab_type": "code",
        "colab": {}
      },
      "source": [
        "pattern = re.compile('Name \\D ([a-zA-z\\s]+)$')\n",
        "#The same pattern as above.\n",
        "\n",
        "\n",
        "pssbl_initials = ['LATE', 'Late', 'DR', 'Dr', 'LT', 'L', 'A', 'P']\n",
        "\n",
        "for i, line in enumerate(open('out_text.txt')):\n",
        "\n",
        "    for match in re.finditer(pattern, line):\n",
        "      new = pattern.findall(line)[0][:-2]\n",
        "      string = new.split(' ')\n",
        "      if(len(string)==1):\n",
        "        data = data.append({'First name': string[0]}, ignore_index=True)\n",
        "      elif(len(string)==2):\n",
        "        #here it can be assumed that when there are only two words in the variable 'string', it would be first name and \n",
        "        #last name. This is because whenever middle name is present in whichever order, the minimum length of the \n",
        "        #'string' would be 3. Another case is with initials. Also here, whenever initials are present a person's last name\n",
        "        #is also taken together. Hence total words are 3.\n",
        "        data = data.append({'First name': string[0], 'Last name': string[1]}, ignore_index=True)\n",
        "      elif(len(string)==4):\n",
        "        #this means that someone's name has all four features 'Initials', 'First name', 'Middle name' and 'Last name'\n",
        "        #and also there can be no difference in this form's order.\n",
        "        data = data.append({'Initials': string[0], 'First name': string[1], 'Middle name': string[2], 'Last name': string[3]}, ignore_index=True)\n",
        "      elif(len(string)==3 and string[0] in pssbl_initials):\n",
        "        #On briefly overviewing the dataset, the possible initials seen in the same were only the ones mentioned in pssbl_initials list. \n",
        "        #Therefore, if the initials are the ones present in the list then the name would be of the form \"initial_name first_name last_name\".\n",
        "        #Here i tackle that case.\n",
        "        data = data.append({'Initials': string[0], 'First name': string[1], 'Last name': string[2]}, ignore_index=True)\n",
        "      else:\n",
        "        # The last case where data can be of the form \"Initial_name first_name last name\".\n",
        "        data = data.append({'First name': string[0], 'Middle name': string[1], 'Last name': string[2]}, ignore_index=True)\n",
        "\n"
      ],
      "execution_count": 0,
      "outputs": []
    },
    {
      "cell_type": "code",
      "metadata": {
        "id": "J6Cy2esz0p-Q",
        "colab_type": "code",
        "outputId": "8b2aaf7a-6bfc-43a5-a18b-87a3c6ee0629",
        "colab": {
          "base_uri": "https://localhost:8080/",
          "height": 402
        }
      },
      "source": [
        "data\n",
        "#Here the data has a total of 547 rows which is the same as the total count in the above cells.\n",
        "#This means that the all of the data was correctly handled and none of the names or cases/forms\n",
        "#were missed. "
      ],
      "execution_count": 30,
      "outputs": [
        {
          "output_type": "execute_result",
          "data": {
            "text/html": [
              "<div>\n",
              "<style scoped>\n",
              "    .dataframe tbody tr th:only-of-type {\n",
              "        vertical-align: middle;\n",
              "    }\n",
              "\n",
              "    .dataframe tbody tr th {\n",
              "        vertical-align: top;\n",
              "    }\n",
              "\n",
              "    .dataframe thead th {\n",
              "        text-align: right;\n",
              "    }\n",
              "</style>\n",
              "<table border=\"1\" class=\"dataframe\">\n",
              "  <thead>\n",
              "    <tr style=\"text-align: right;\">\n",
              "      <th></th>\n",
              "      <th>Initials</th>\n",
              "      <th>First name</th>\n",
              "      <th>Middle name</th>\n",
              "      <th>Last name</th>\n",
              "    </tr>\n",
              "  </thead>\n",
              "  <tbody>\n",
              "    <tr>\n",
              "      <th>0</th>\n",
              "      <td>NaN</td>\n",
              "      <td>Brijay</td>\n",
              "      <td>N</td>\n",
              "      <td>Kalr</td>\n",
              "    </tr>\n",
              "    <tr>\n",
              "      <th>1</th>\n",
              "      <td>NaN</td>\n",
              "      <td>Lawrance</td>\n",
              "      <td>NaN</td>\n",
              "      <td>Rodrigue</td>\n",
              "    </tr>\n",
              "    <tr>\n",
              "      <th>2</th>\n",
              "      <td>NaN</td>\n",
              "      <td>Isidore</td>\n",
              "      <td>NaN</td>\n",
              "      <td>Rodrigue</td>\n",
              "    </tr>\n",
              "    <tr>\n",
              "      <th>3</th>\n",
              "      <td>NaN</td>\n",
              "      <td>Brijaya</td>\n",
              "      <td>N</td>\n",
              "      <td>Kalr</td>\n",
              "    </tr>\n",
              "    <tr>\n",
              "      <th>4</th>\n",
              "      <td>NaN</td>\n",
              "      <td>Lakshmi</td>\n",
              "      <td>NaN</td>\n",
              "      <td>Mukun</td>\n",
              "    </tr>\n",
              "    <tr>\n",
              "      <th>...</th>\n",
              "      <td>...</td>\n",
              "      <td>...</td>\n",
              "      <td>...</td>\n",
              "      <td>...</td>\n",
              "    </tr>\n",
              "    <tr>\n",
              "      <th>1089</th>\n",
              "      <td>NaN</td>\n",
              "      <td>Karan</td>\n",
              "      <td>NaN</td>\n",
              "      <td>Ra</td>\n",
              "    </tr>\n",
              "    <tr>\n",
              "      <th>1090</th>\n",
              "      <td>NaN</td>\n",
              "      <td>MANJU</td>\n",
              "      <td>NaN</td>\n",
              "      <td>RAV</td>\n",
              "    </tr>\n",
              "    <tr>\n",
              "      <th>1091</th>\n",
              "      <td>NaN</td>\n",
              "      <td>RAVI</td>\n",
              "      <td>NaN</td>\n",
              "      <td>NARAYA</td>\n",
              "    </tr>\n",
              "    <tr>\n",
              "      <th>1092</th>\n",
              "      <td>NaN</td>\n",
              "      <td>SANDHYA</td>\n",
              "      <td>NaN</td>\n",
              "      <td>SUBRAMANYA</td>\n",
              "    </tr>\n",
              "    <tr>\n",
              "      <th>1093</th>\n",
              "      <td>NaN</td>\n",
              "      <td>ANANT</td>\n",
              "      <td>NaN</td>\n",
              "      <td>NaN</td>\n",
              "    </tr>\n",
              "  </tbody>\n",
              "</table>\n",
              "<p>1094 rows × 4 columns</p>\n",
              "</div>"
            ],
            "text/plain": [
              "     Initials First name Middle name   Last name\n",
              "0         NaN     Brijay           N        Kalr\n",
              "1         NaN   Lawrance         NaN    Rodrigue\n",
              "2         NaN    Isidore         NaN    Rodrigue\n",
              "3         NaN    Brijaya           N        Kalr\n",
              "4         NaN    Lakshmi         NaN       Mukun\n",
              "...       ...        ...         ...         ...\n",
              "1089      NaN      Karan         NaN          Ra\n",
              "1090      NaN      MANJU         NaN         RAV\n",
              "1091      NaN       RAVI         NaN      NARAYA\n",
              "1092      NaN    SANDHYA         NaN  SUBRAMANYA\n",
              "1093      NaN      ANANT         NaN         NaN\n",
              "\n",
              "[1094 rows x 4 columns]"
            ]
          },
          "metadata": {
            "tags": []
          },
          "execution_count": 30
        }
      ]
    },
    {
      "cell_type": "code",
      "metadata": {
        "id": "3Ja1acCJt_4z",
        "colab_type": "code",
        "colab": {}
      },
      "source": [
        "#Last but not the least, it is important to filter out duplicate data from the pandas dataframe\n",
        "data.drop_duplicates(inplace=True)"
      ],
      "execution_count": 0,
      "outputs": []
    },
    {
      "cell_type": "code",
      "metadata": {
        "id": "rD14Y2e6usp0",
        "colab_type": "code",
        "colab": {}
      },
      "source": [
        "#Finally\n",
        "data.to_csv(\"names.csv\")"
      ],
      "execution_count": 0,
      "outputs": []
    }
  ]
}